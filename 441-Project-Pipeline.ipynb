{
 "cells": [
  {
   "cell_type": "markdown",
   "id": "b4b09f5a",
   "metadata": {},
   "source": [
    "# Imports"
   ]
  },
  {
   "cell_type": "code",
   "execution_count": 101,
   "id": "faedf5cf",
   "metadata": {},
   "outputs": [],
   "source": [
    "import pandas as pd\n",
    "import numpy as np\n",
    "import matplotlib.pyplot as plt\n",
    "from sklearn.metrics import *\n",
    "import math\n",
    "\n",
    "from sklearn.model_selection import train_test_split"
   ]
  },
  {
   "cell_type": "markdown",
   "id": "1b60cf64",
   "metadata": {},
   "source": [
    "# Helper Functions"
   ]
  },
  {
   "cell_type": "code",
   "execution_count": null,
   "id": "c816c4fb",
   "metadata": {},
   "outputs": [],
   "source": []
  },
  {
   "cell_type": "markdown",
   "id": "40c5c8d8",
   "metadata": {},
   "source": [
    "# Part I - Preprocessing"
   ]
  },
  {
   "cell_type": "code",
   "execution_count": 102,
   "id": "ee12e8f6",
   "metadata": {},
   "outputs": [
    {
     "name": "stdout",
     "output_type": "stream",
     "text": [
      "(38201, 6)\n"
     ]
    },
    {
     "data": {
      "text/html": [
       "<div>\n",
       "<style scoped>\n",
       "    .dataframe tbody tr th:only-of-type {\n",
       "        vertical-align: middle;\n",
       "    }\n",
       "\n",
       "    .dataframe tbody tr th {\n",
       "        vertical-align: top;\n",
       "    }\n",
       "\n",
       "    .dataframe thead th {\n",
       "        text-align: right;\n",
       "    }\n",
       "</style>\n",
       "<table border=\"1\" class=\"dataframe\">\n",
       "  <thead>\n",
       "    <tr style=\"text-align: right;\">\n",
       "      <th></th>\n",
       "      <th>Size</th>\n",
       "      <th>Ticks</th>\n",
       "      <th>Seconds</th>\n",
       "      <th>Memory</th>\n",
       "      <th>Percent_Sort</th>\n",
       "      <th>Algorithm</th>\n",
       "    </tr>\n",
       "  </thead>\n",
       "  <tbody>\n",
       "    <tr>\n",
       "      <th>0</th>\n",
       "      <td>21.0</td>\n",
       "      <td>4.0</td>\n",
       "      <td>0.000004</td>\n",
       "      <td>84.0</td>\n",
       "      <td>1.0</td>\n",
       "      <td>4.0</td>\n",
       "    </tr>\n",
       "    <tr>\n",
       "      <th>2</th>\n",
       "      <td>137.0</td>\n",
       "      <td>2.0</td>\n",
       "      <td>0.000002</td>\n",
       "      <td>548.0</td>\n",
       "      <td>95.0</td>\n",
       "      <td>4.0</td>\n",
       "    </tr>\n",
       "    <tr>\n",
       "      <th>4</th>\n",
       "      <td>949.0</td>\n",
       "      <td>7.0</td>\n",
       "      <td>0.000007</td>\n",
       "      <td>3796.0</td>\n",
       "      <td>95.0</td>\n",
       "      <td>4.0</td>\n",
       "    </tr>\n",
       "    <tr>\n",
       "      <th>6</th>\n",
       "      <td>529.0</td>\n",
       "      <td>5.0</td>\n",
       "      <td>0.000005</td>\n",
       "      <td>2116.0</td>\n",
       "      <td>95.0</td>\n",
       "      <td>4.0</td>\n",
       "    </tr>\n",
       "    <tr>\n",
       "      <th>8</th>\n",
       "      <td>740.0</td>\n",
       "      <td>5.0</td>\n",
       "      <td>0.000005</td>\n",
       "      <td>2960.0</td>\n",
       "      <td>95.0</td>\n",
       "      <td>4.0</td>\n",
       "    </tr>\n",
       "  </tbody>\n",
       "</table>\n",
       "</div>"
      ],
      "text/plain": [
       "    Size  Ticks   Seconds  Memory  Percent_Sort  Algorithm\n",
       "0   21.0    4.0  0.000004    84.0           1.0        4.0\n",
       "2  137.0    2.0  0.000002   548.0          95.0        4.0\n",
       "4  949.0    7.0  0.000007  3796.0          95.0        4.0\n",
       "6  529.0    5.0  0.000005  2116.0          95.0        4.0\n",
       "8  740.0    5.0  0.000005  2960.0          95.0        4.0"
      ]
     },
     "execution_count": 102,
     "metadata": {},
     "output_type": "execute_result"
    }
   ],
   "source": [
    "#create dataframe \n",
    "df = pd.read_csv('master.csv')\n",
    "\n",
    "#rename columns of data frame\n",
    "df = df.rename(columns={'Unnamed: 0' :'Size','Unnamed: 1':'Ticks', 'Unnamed: 2': 'Seconds', 'Unnamed: 3' : 'Memory', 'Unnamed: 4' :'Percent_Sort', 'Unnamed: 5' : 'Algorithm'})\n",
    "\n",
    "#drop na values from data frame\n",
    "df = df.dropna()\n",
    "\n",
    "print(df.shape)\n",
    "df.head(5)"
   ]
  },
  {
   "cell_type": "code",
   "execution_count": 103,
   "id": "25b57f20",
   "metadata": {},
   "outputs": [
    {
     "data": {
      "text/plain": [
       "Size            0\n",
       "Ticks           0\n",
       "Seconds         0\n",
       "Memory          0\n",
       "Percent_Sort    0\n",
       "Algorithm       0\n",
       "dtype: int64"
      ]
     },
     "execution_count": 103,
     "metadata": {},
     "output_type": "execute_result"
    }
   ],
   "source": [
    "#verify no na values\n",
    "df.isna().sum()"
   ]
  },
  {
   "cell_type": "code",
   "execution_count": 104,
   "id": "eb4d1034",
   "metadata": {},
   "outputs": [
    {
     "data": {
      "text/plain": [
       "Size            float64\n",
       "Ticks           float64\n",
       "Seconds         float64\n",
       "Memory          float64\n",
       "Percent_Sort    float64\n",
       "Algorithm       float64\n",
       "dtype: object"
      ]
     },
     "execution_count": 104,
     "metadata": {},
     "output_type": "execute_result"
    }
   ],
   "source": [
    "#check data types of the columns\n",
    "df.dtypes"
   ]
  },
  {
   "cell_type": "code",
   "execution_count": 105,
   "id": "a9049f77",
   "metadata": {},
   "outputs": [
    {
     "data": {
      "text/html": [
       "<div>\n",
       "<style scoped>\n",
       "    .dataframe tbody tr th:only-of-type {\n",
       "        vertical-align: middle;\n",
       "    }\n",
       "\n",
       "    .dataframe tbody tr th {\n",
       "        vertical-align: top;\n",
       "    }\n",
       "\n",
       "    .dataframe thead th {\n",
       "        text-align: right;\n",
       "    }\n",
       "</style>\n",
       "<table border=\"1\" class=\"dataframe\">\n",
       "  <thead>\n",
       "    <tr style=\"text-align: right;\">\n",
       "      <th></th>\n",
       "      <th>Size</th>\n",
       "      <th>Ticks</th>\n",
       "      <th>Seconds</th>\n",
       "      <th>Memory</th>\n",
       "      <th>Percent_Sort</th>\n",
       "      <th>Algorithm</th>\n",
       "    </tr>\n",
       "  </thead>\n",
       "  <tbody>\n",
       "    <tr>\n",
       "      <th>0</th>\n",
       "      <td>21.0</td>\n",
       "      <td>4.0</td>\n",
       "      <td>0.000004</td>\n",
       "      <td>84.0</td>\n",
       "      <td>1.0</td>\n",
       "      <td>4.0</td>\n",
       "    </tr>\n",
       "    <tr>\n",
       "      <th>2</th>\n",
       "      <td>137.0</td>\n",
       "      <td>2.0</td>\n",
       "      <td>0.000002</td>\n",
       "      <td>548.0</td>\n",
       "      <td>95.0</td>\n",
       "      <td>4.0</td>\n",
       "    </tr>\n",
       "    <tr>\n",
       "      <th>4</th>\n",
       "      <td>949.0</td>\n",
       "      <td>7.0</td>\n",
       "      <td>0.000007</td>\n",
       "      <td>3796.0</td>\n",
       "      <td>95.0</td>\n",
       "      <td>4.0</td>\n",
       "    </tr>\n",
       "    <tr>\n",
       "      <th>6</th>\n",
       "      <td>529.0</td>\n",
       "      <td>5.0</td>\n",
       "      <td>0.000005</td>\n",
       "      <td>2116.0</td>\n",
       "      <td>95.0</td>\n",
       "      <td>4.0</td>\n",
       "    </tr>\n",
       "    <tr>\n",
       "      <th>8</th>\n",
       "      <td>740.0</td>\n",
       "      <td>5.0</td>\n",
       "      <td>0.000005</td>\n",
       "      <td>2960.0</td>\n",
       "      <td>95.0</td>\n",
       "      <td>4.0</td>\n",
       "    </tr>\n",
       "  </tbody>\n",
       "</table>\n",
       "</div>"
      ],
      "text/plain": [
       "    Size  Ticks   Seconds  Memory  Percent_Sort  Algorithm\n",
       "0   21.0    4.0  0.000004    84.0           1.0        4.0\n",
       "2  137.0    2.0  0.000002   548.0          95.0        4.0\n",
       "4  949.0    7.0  0.000007  3796.0          95.0        4.0\n",
       "6  529.0    5.0  0.000005  2116.0          95.0        4.0\n",
       "8  740.0    5.0  0.000005  2960.0          95.0        4.0"
      ]
     },
     "execution_count": 105,
     "metadata": {},
     "output_type": "execute_result"
    }
   ],
   "source": [
    "df.head(5)"
   ]
  },
  {
   "cell_type": "code",
   "execution_count": 139,
   "id": "81979cf5",
   "metadata": {},
   "outputs": [],
   "source": [
    "# Separate features from the target\n",
    "#X = intc.drop(columns = ['Close'])\n",
    "\n",
    "X = df[['Size','Memory','Percent_Sort']].copy()\n",
    "y = df['Seconds'].copy()"
   ]
  },
  {
   "cell_type": "code",
   "execution_count": 140,
   "id": "7e64e128",
   "metadata": {},
   "outputs": [
    {
     "name": "stdout",
     "output_type": "stream",
     "text": [
      "(38201, 3)\n",
      "(38201,)\n"
     ]
    }
   ],
   "source": [
    "print(X.shape)\n",
    "print(y.shape)"
   ]
  },
  {
   "cell_type": "code",
   "execution_count": 141,
   "id": "a7c99b90",
   "metadata": {},
   "outputs": [
    {
     "data": {
      "text/plain": [
       "Size            0\n",
       "Memory          0\n",
       "Percent_Sort    0\n",
       "dtype: int64"
      ]
     },
     "execution_count": 141,
     "metadata": {},
     "output_type": "execute_result"
    }
   ],
   "source": [
    "X.isna().sum()"
   ]
  },
  {
   "cell_type": "code",
   "execution_count": 142,
   "id": "912bf063",
   "metadata": {},
   "outputs": [
    {
     "data": {
      "text/plain": [
       "0"
      ]
     },
     "execution_count": 142,
     "metadata": {},
     "output_type": "execute_result"
    }
   ],
   "source": [
    "y.isna().sum()"
   ]
  },
  {
   "cell_type": "code",
   "execution_count": 143,
   "id": "185a5ffc",
   "metadata": {},
   "outputs": [],
   "source": [
    "# Partition the data into train and test with a split ratio of 75/25 for train/test\n",
    "X_train, X_test, y_train, y_test = train_test_split(X, y, test_size= 0.25, random_state=42)"
   ]
  },
  {
   "cell_type": "markdown",
   "id": "bc9d626d",
   "metadata": {},
   "source": [
    "# Part-II Linear Regression"
   ]
  },
  {
   "cell_type": "code",
   "execution_count": 144,
   "id": "943ffc50",
   "metadata": {},
   "outputs": [],
   "source": [
    "theta_best = np.linalg.inv(X_train.T.dot(X_train)).dot(X_train.T).dot(y_train)"
   ]
  },
  {
   "cell_type": "code",
   "execution_count": 145,
   "id": "065a1d37",
   "metadata": {},
   "outputs": [
    {
     "data": {
      "text/plain": [
       "(3,)"
      ]
     },
     "execution_count": 145,
     "metadata": {},
     "output_type": "execute_result"
    }
   ],
   "source": [
    "theta_best.shape"
   ]
  },
  {
   "cell_type": "code",
   "execution_count": 146,
   "id": "a11cb9e0",
   "metadata": {},
   "outputs": [
    {
     "data": {
      "text/plain": [
       "63508    0.005492\n",
       "2692     0.000581\n",
       "7230     0.000501\n",
       "56388    0.001281\n",
       "10020    0.000055\n",
       "           ...   \n",
       "5202     0.000495\n",
       "46750    0.003752\n",
       "40996    0.004888\n",
       "71380    0.005849\n",
       "64662    0.001735\n",
       "Length: 9551, dtype: float64"
      ]
     },
     "execution_count": 146,
     "metadata": {},
     "output_type": "execute_result"
    }
   ],
   "source": [
    "# Make predictions on X_test using theta_best\n",
    "y_pred_ls = X_test.dot(theta_best)\n",
    "y_pred_ls"
   ]
  },
  {
   "cell_type": "code",
   "execution_count": 147,
   "id": "3e6de2fc",
   "metadata": {},
   "outputs": [],
   "source": [
    "#compute the mse, rmse, and mae for the Least Squares regression model\n",
    "#both numbers should be < 1\n",
    "sklearn_mae_ls = mean_absolute_error(y_test, y_pred_ls)\n",
    "sklearn_mse_ls = mean_squared_error(y_test, y_pred_ls)\n",
    "sklearn_rmse_ls = math.sqrt(mean_squared_error(y_test, y_pred_ls))\n",
    "sklearn_r2_ls = r2_score(y_test, y_pred_ls, multioutput='variance_weighted')"
   ]
  },
  {
   "cell_type": "code",
   "execution_count": 148,
   "id": "7cee5314",
   "metadata": {},
   "outputs": [
    {
     "name": "stdout",
     "output_type": "stream",
     "text": [
      "4.6448528846854336e-05\n",
      "1.4076129128231571e-08\n",
      "0.00011864286378974326\n",
      "0.9959175729937545\n"
     ]
    }
   ],
   "source": [
    "print(sklearn_mae_ls, sklearn_mse_ls,sklearn_rmse_ls,sklearn_r2_ls, sep='\\n')"
   ]
  },
  {
   "cell_type": "code",
   "execution_count": 138,
   "id": "5099b772",
   "metadata": {},
   "outputs": [
    {
     "data": {
      "text/plain": [
       "Text(0, 0.5, 'Sort time')"
      ]
     },
     "execution_count": 138,
     "metadata": {},
     "output_type": "execute_result"
    },
    {
     "data": {
      "image/png": "[encoded data removed]",
      "text/plain": [
       "<Figure size 1152x576 with 1 Axes>"
      ]
     },
     "metadata": {},
     "output_type": "display_data"
    }
   ],
   "source": [
    "import seaborn as sns\n",
    "sns.set()\n",
    "plt.figure(figsize=(16,8))\n",
    "\n",
    "#ax = plt.axes()\n",
    "#ax.set_facecolor(\"#eaeaf2\")\n",
    "#[ax.spines[side].set_visible(False) for side in ax.spines]\n",
    "\n",
    "actual_scatter_plt = sns.scatterplot(x=X['Size'], y=y_test, color=\"blue\", label ='Actual',s=75)\n",
    "prediction_scatter_plt = sns.scatterplot(x=X['Size'], y=y_pred_ls, color=\"red\", label ='Prediction', s=20)\n",
    "\n",
    "plt.title(\"Sorting algorithm runtime predictions\", fontsize=18)\n",
    "\n",
    "plt.xlabel(\"Size\",fontsize=16)\n",
    "plt.ylabel(\"Sort time\",fontsize=16)"
   ]
  },
  {
   "cell_type": "code",
   "execution_count": null,
   "id": "9bdfd9b3",
   "metadata": {},
   "outputs": [],
   "source": []
  },
  {
   "cell_type": "code",
   "execution_count": null,
   "id": "f09e0ffe",
   "metadata": {},
   "outputs": [],
   "source": []
  },
  {
   "cell_type": "code",
   "execution_count": null,
   "id": "46be0abd",
   "metadata": {},
   "outputs": [],
   "source": []
  }
 ],
 "metadata": {
  "kernelspec": {
   "display_name": "Python 3",
   "language": "python",
   "name": "python3"
  },
  "language_info": {
   "codemirror_mode": {
    "name": "ipython",
    "version": 3
   },
   "file_extension": ".py",
   "mimetype": "text/x-python",
   "name": "python",
   "nbconvert_exporter": "python",
   "pygments_lexer": "ipython3",
   "version": "3.8.8"
  }
 },
 "nbformat": 4,
 "nbformat_minor": 5
}
